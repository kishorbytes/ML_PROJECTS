{
 "cells": [
  {
   "cell_type": "markdown",
   "id": "cc85e170-44c5-4376-8ae1-9705a24ec58a",
   "metadata": {},
   "source": [
    "# Part 1: DATA CLEANING"
   ]
  },
  {
   "cell_type": "code",
   "execution_count": null,
   "id": "2c6a65d0-9fc8-4fab-9d55-e652963bc0d6",
   "metadata": {},
   "outputs": [],
   "source": []
  },
  {
   "cell_type": "code",
   "execution_count": 1,
   "id": "bc44b982-3c3b-4c6c-9874-c7437b344aff",
   "metadata": {},
   "outputs": [],
   "source": [
    "#import imp libraries\n",
    "\n",
    "import pandas as pd\n",
    "import numpy as np\n",
    "import matplotlib.pyplot as plt\n",
    "import seaborn as sns"
   ]
  },
  {
   "cell_type": "code",
   "execution_count": null,
   "id": "ca08be49-1134-4240-8157-3c67f20d8a75",
   "metadata": {},
   "outputs": [],
   "source": []
  },
  {
   "cell_type": "code",
   "execution_count": 2,
   "id": "4fc37747-5964-4948-8549-2ce97566635b",
   "metadata": {},
   "outputs": [],
   "source": [
    "#get the dataset\n",
    "\n",
    "df = pd.read_csv(r\"C:\\Users\\Kishor\\ML_PROJECT_2_RESTAURENT\\raw_data\\Restaurant_revenue.csv\")"
   ]
  },
  {
   "cell_type": "code",
   "execution_count": null,
   "id": "5ab14185-93d5-4cc3-a506-7db0a6b73b68",
   "metadata": {},
   "outputs": [],
   "source": []
  },
  {
   "cell_type": "code",
   "execution_count": 3,
   "id": "4402ff2e-83d7-4657-a892-75ff356c85ba",
   "metadata": {},
   "outputs": [
    {
     "data": {
      "text/html": [
       "<div>\n",
       "<style scoped>\n",
       "    .dataframe tbody tr th:only-of-type {\n",
       "        vertical-align: middle;\n",
       "    }\n",
       "\n",
       "    .dataframe tbody tr th {\n",
       "        vertical-align: top;\n",
       "    }\n",
       "\n",
       "    .dataframe thead th {\n",
       "        text-align: right;\n",
       "    }\n",
       "</style>\n",
       "<table border=\"1\" class=\"dataframe\">\n",
       "  <thead>\n",
       "    <tr style=\"text-align: right;\">\n",
       "      <th></th>\n",
       "      <th>Number_of_Customers</th>\n",
       "      <th>Menu_Price</th>\n",
       "      <th>Marketing_Spend</th>\n",
       "      <th>Cuisine_Type</th>\n",
       "      <th>Average_Customer_Spending</th>\n",
       "      <th>Promotions</th>\n",
       "      <th>Reviews</th>\n",
       "      <th>Monthly_Revenue</th>\n",
       "    </tr>\n",
       "  </thead>\n",
       "  <tbody>\n",
       "    <tr>\n",
       "      <th>783</th>\n",
       "      <td>13</td>\n",
       "      <td>31.976570</td>\n",
       "      <td>4.807648</td>\n",
       "      <td>Mexican</td>\n",
       "      <td>42.908117</td>\n",
       "      <td>1</td>\n",
       "      <td>23</td>\n",
       "      <td>205.387291</td>\n",
       "    </tr>\n",
       "    <tr>\n",
       "      <th>652</th>\n",
       "      <td>58</td>\n",
       "      <td>36.504851</td>\n",
       "      <td>4.525582</td>\n",
       "      <td>Mexican</td>\n",
       "      <td>46.249341</td>\n",
       "      <td>1</td>\n",
       "      <td>41</td>\n",
       "      <td>215.802356</td>\n",
       "    </tr>\n",
       "    <tr>\n",
       "      <th>593</th>\n",
       "      <td>14</td>\n",
       "      <td>33.731146</td>\n",
       "      <td>17.645171</td>\n",
       "      <td>American</td>\n",
       "      <td>36.910239</td>\n",
       "      <td>0</td>\n",
       "      <td>72</td>\n",
       "      <td>223.469481</td>\n",
       "    </tr>\n",
       "    <tr>\n",
       "      <th>669</th>\n",
       "      <td>37</td>\n",
       "      <td>15.830263</td>\n",
       "      <td>18.932889</td>\n",
       "      <td>Italian</td>\n",
       "      <td>22.648605</td>\n",
       "      <td>0</td>\n",
       "      <td>7</td>\n",
       "      <td>59.590011</td>\n",
       "    </tr>\n",
       "    <tr>\n",
       "      <th>689</th>\n",
       "      <td>55</td>\n",
       "      <td>12.067873</td>\n",
       "      <td>2.715781</td>\n",
       "      <td>Mexican</td>\n",
       "      <td>49.432146</td>\n",
       "      <td>0</td>\n",
       "      <td>45</td>\n",
       "      <td>251.387726</td>\n",
       "    </tr>\n",
       "  </tbody>\n",
       "</table>\n",
       "</div>"
      ],
      "text/plain": [
       "     Number_of_Customers  Menu_Price  Marketing_Spend Cuisine_Type  \\\n",
       "783                   13   31.976570         4.807648      Mexican   \n",
       "652                   58   36.504851         4.525582      Mexican   \n",
       "593                   14   33.731146        17.645171     American   \n",
       "669                   37   15.830263        18.932889      Italian   \n",
       "689                   55   12.067873         2.715781      Mexican   \n",
       "\n",
       "     Average_Customer_Spending  Promotions  Reviews  Monthly_Revenue  \n",
       "783                  42.908117           1       23       205.387291  \n",
       "652                  46.249341           1       41       215.802356  \n",
       "593                  36.910239           0       72       223.469481  \n",
       "669                  22.648605           0        7        59.590011  \n",
       "689                  49.432146           0       45       251.387726  "
      ]
     },
     "execution_count": 3,
     "metadata": {},
     "output_type": "execute_result"
    }
   ],
   "source": [
    "df.sample(5)"
   ]
  },
  {
   "cell_type": "code",
   "execution_count": null,
   "id": "12ed06d8-f28d-40e9-ae95-58ac39106aaf",
   "metadata": {},
   "outputs": [],
   "source": [
    "\n"
   ]
  },
  {
   "cell_type": "code",
   "execution_count": null,
   "id": "1bc98f92-c4bc-4204-9ad0-0451bcbbb611",
   "metadata": {},
   "outputs": [],
   "source": []
  },
  {
   "cell_type": "code",
   "execution_count": 4,
   "id": "c80e6c6c-cfdb-4ecb-a570-ad4bf64ac441",
   "metadata": {},
   "outputs": [
    {
     "data": {
      "text/html": [
       "<div>\n",
       "<style scoped>\n",
       "    .dataframe tbody tr th:only-of-type {\n",
       "        vertical-align: middle;\n",
       "    }\n",
       "\n",
       "    .dataframe tbody tr th {\n",
       "        vertical-align: top;\n",
       "    }\n",
       "\n",
       "    .dataframe thead th {\n",
       "        text-align: right;\n",
       "    }\n",
       "</style>\n",
       "<table border=\"1\" class=\"dataframe\">\n",
       "  <thead>\n",
       "    <tr style=\"text-align: right;\">\n",
       "      <th></th>\n",
       "      <th>Number_of_Customers</th>\n",
       "      <th>Menu_Price</th>\n",
       "      <th>Marketing_Spend</th>\n",
       "      <th>Average_Customer_Spending</th>\n",
       "      <th>Promotions</th>\n",
       "      <th>Reviews</th>\n",
       "      <th>Monthly_Revenue</th>\n",
       "    </tr>\n",
       "  </thead>\n",
       "  <tbody>\n",
       "    <tr>\n",
       "      <th>count</th>\n",
       "      <td>1000.000000</td>\n",
       "      <td>1000.000000</td>\n",
       "      <td>1000.000000</td>\n",
       "      <td>1000.000000</td>\n",
       "      <td>1000.000000</td>\n",
       "      <td>1000.000000</td>\n",
       "      <td>1000.000000</td>\n",
       "    </tr>\n",
       "    <tr>\n",
       "      <th>mean</th>\n",
       "      <td>53.271000</td>\n",
       "      <td>30.219120</td>\n",
       "      <td>9.958726</td>\n",
       "      <td>29.477085</td>\n",
       "      <td>0.497000</td>\n",
       "      <td>49.837000</td>\n",
       "      <td>268.724172</td>\n",
       "    </tr>\n",
       "    <tr>\n",
       "      <th>std</th>\n",
       "      <td>26.364914</td>\n",
       "      <td>11.278760</td>\n",
       "      <td>5.845586</td>\n",
       "      <td>11.471686</td>\n",
       "      <td>0.500241</td>\n",
       "      <td>29.226334</td>\n",
       "      <td>103.982950</td>\n",
       "    </tr>\n",
       "    <tr>\n",
       "      <th>min</th>\n",
       "      <td>10.000000</td>\n",
       "      <td>10.009501</td>\n",
       "      <td>0.003768</td>\n",
       "      <td>10.037177</td>\n",
       "      <td>0.000000</td>\n",
       "      <td>0.000000</td>\n",
       "      <td>-28.977809</td>\n",
       "    </tr>\n",
       "    <tr>\n",
       "      <th>25%</th>\n",
       "      <td>30.000000</td>\n",
       "      <td>20.396828</td>\n",
       "      <td>4.690724</td>\n",
       "      <td>19.603041</td>\n",
       "      <td>0.000000</td>\n",
       "      <td>24.000000</td>\n",
       "      <td>197.103642</td>\n",
       "    </tr>\n",
       "    <tr>\n",
       "      <th>50%</th>\n",
       "      <td>54.000000</td>\n",
       "      <td>30.860614</td>\n",
       "      <td>10.092047</td>\n",
       "      <td>29.251365</td>\n",
       "      <td>0.000000</td>\n",
       "      <td>50.000000</td>\n",
       "      <td>270.213964</td>\n",
       "    </tr>\n",
       "    <tr>\n",
       "      <th>75%</th>\n",
       "      <td>74.000000</td>\n",
       "      <td>39.843868</td>\n",
       "      <td>14.992436</td>\n",
       "      <td>39.553220</td>\n",
       "      <td>1.000000</td>\n",
       "      <td>76.000000</td>\n",
       "      <td>343.395793</td>\n",
       "    </tr>\n",
       "    <tr>\n",
       "      <th>max</th>\n",
       "      <td>99.000000</td>\n",
       "      <td>49.974140</td>\n",
       "      <td>19.994276</td>\n",
       "      <td>49.900725</td>\n",
       "      <td>1.000000</td>\n",
       "      <td>99.000000</td>\n",
       "      <td>563.381332</td>\n",
       "    </tr>\n",
       "  </tbody>\n",
       "</table>\n",
       "</div>"
      ],
      "text/plain": [
       "       Number_of_Customers   Menu_Price  Marketing_Spend  \\\n",
       "count          1000.000000  1000.000000      1000.000000   \n",
       "mean             53.271000    30.219120         9.958726   \n",
       "std              26.364914    11.278760         5.845586   \n",
       "min              10.000000    10.009501         0.003768   \n",
       "25%              30.000000    20.396828         4.690724   \n",
       "50%              54.000000    30.860614        10.092047   \n",
       "75%              74.000000    39.843868        14.992436   \n",
       "max              99.000000    49.974140        19.994276   \n",
       "\n",
       "       Average_Customer_Spending   Promotions      Reviews  Monthly_Revenue  \n",
       "count                1000.000000  1000.000000  1000.000000      1000.000000  \n",
       "mean                   29.477085     0.497000    49.837000       268.724172  \n",
       "std                    11.471686     0.500241    29.226334       103.982950  \n",
       "min                    10.037177     0.000000     0.000000       -28.977809  \n",
       "25%                    19.603041     0.000000    24.000000       197.103642  \n",
       "50%                    29.251365     0.000000    50.000000       270.213964  \n",
       "75%                    39.553220     1.000000    76.000000       343.395793  \n",
       "max                    49.900725     1.000000    99.000000       563.381332  "
      ]
     },
     "execution_count": 4,
     "metadata": {},
     "output_type": "execute_result"
    }
   ],
   "source": [
    "df.describe()"
   ]
  },
  {
   "cell_type": "code",
   "execution_count": 5,
   "id": "6009360b-6a9a-4f99-9478-cd5f3ccd265f",
   "metadata": {},
   "outputs": [
    {
     "name": "stdout",
     "output_type": "stream",
     "text": [
      "<class 'pandas.core.frame.DataFrame'>\n",
      "RangeIndex: 1000 entries, 0 to 999\n",
      "Data columns (total 8 columns):\n",
      " #   Column                     Non-Null Count  Dtype  \n",
      "---  ------                     --------------  -----  \n",
      " 0   Number_of_Customers        1000 non-null   int64  \n",
      " 1   Menu_Price                 1000 non-null   float64\n",
      " 2   Marketing_Spend            1000 non-null   float64\n",
      " 3   Cuisine_Type               1000 non-null   object \n",
      " 4   Average_Customer_Spending  1000 non-null   float64\n",
      " 5   Promotions                 1000 non-null   int64  \n",
      " 6   Reviews                    1000 non-null   int64  \n",
      " 7   Monthly_Revenue            1000 non-null   float64\n",
      "dtypes: float64(4), int64(3), object(1)\n",
      "memory usage: 62.6+ KB\n"
     ]
    }
   ],
   "source": [
    "df.info()"
   ]
  },
  {
   "cell_type": "code",
   "execution_count": null,
   "id": "237ac2c7-ae9e-4b28-b1eb-2801aaa69d4a",
   "metadata": {},
   "outputs": [],
   "source": []
  },
  {
   "cell_type": "code",
   "execution_count": 6,
   "id": "bd48e358-1575-44af-ba67-17224c9ff36a",
   "metadata": {},
   "outputs": [
    {
     "data": {
      "text/plain": [
       "Number_of_Customers          0\n",
       "Menu_Price                   0\n",
       "Marketing_Spend              0\n",
       "Cuisine_Type                 0\n",
       "Average_Customer_Spending    0\n",
       "Promotions                   0\n",
       "Reviews                      0\n",
       "Monthly_Revenue              0\n",
       "dtype: int64"
      ]
     },
     "execution_count": 6,
     "metadata": {},
     "output_type": "execute_result"
    }
   ],
   "source": [
    "# find the null in datset\n",
    "\n",
    "df.isnull().sum()"
   ]
  },
  {
   "cell_type": "markdown",
   "id": "13910aec-2684-4c73-abc9-5a17bf60a253",
   "metadata": {},
   "source": [
    "No null value exist"
   ]
  },
  {
   "cell_type": "code",
   "execution_count": null,
   "id": "82fa9dcf-026f-4c70-ba1e-82e515ae8ecd",
   "metadata": {},
   "outputs": [],
   "source": []
  },
  {
   "cell_type": "code",
   "execution_count": 7,
   "id": "8977a5e4-93cd-4b73-a1c4-8870d6210bbf",
   "metadata": {},
   "outputs": [
    {
     "data": {
      "text/plain": [
       "array(['Japanese', 'Italian', 'American', 'Mexican'], dtype=object)"
      ]
     },
     "execution_count": 7,
     "metadata": {},
     "output_type": "execute_result"
    }
   ],
   "source": [
    "df.Cuisine_Type.unique()"
   ]
  },
  {
   "cell_type": "code",
   "execution_count": null,
   "id": "4491273c-251b-447e-b768-39b869d240ff",
   "metadata": {},
   "outputs": [],
   "source": []
  },
  {
   "cell_type": "code",
   "execution_count": 8,
   "id": "b3c37463-236e-4830-a92d-04c7e4364f8c",
   "metadata": {},
   "outputs": [
    {
     "data": {
      "text/plain": [
       "Index(['Number_of_Customers', 'Menu_Price', 'Marketing_Spend', 'Cuisine_Type',\n",
       "       'Average_Customer_Spending', 'Promotions', 'Reviews',\n",
       "       'Monthly_Revenue'],\n",
       "      dtype='object')"
      ]
     },
     "execution_count": 8,
     "metadata": {},
     "output_type": "execute_result"
    }
   ],
   "source": [
    "df.columns"
   ]
  },
  {
   "cell_type": "code",
   "execution_count": null,
   "id": "30c87827-591f-44f7-9867-9ea662a3f901",
   "metadata": {},
   "outputs": [],
   "source": []
  },
  {
   "cell_type": "code",
   "execution_count": null,
   "id": "40734423-0a4f-4d47-95f9-01d42a76aeae",
   "metadata": {},
   "outputs": [],
   "source": []
  },
  {
   "cell_type": "code",
   "execution_count": null,
   "id": "9019f189-48e7-4b94-b4e1-56e7677e5b5f",
   "metadata": {},
   "outputs": [],
   "source": []
  },
  {
   "cell_type": "markdown",
   "id": "7b275a30-a204-4cdb-a8cc-6f5c749217d4",
   "metadata": {
    "jp-MarkdownHeadingCollapsed": true
   },
   "source": [
    "# Part 2: FEATURE ENGINEERING"
   ]
  },
  {
   "cell_type": "code",
   "execution_count": null,
   "id": "758bc97d-d77c-4e8e-acdd-e92500e2d459",
   "metadata": {},
   "outputs": [],
   "source": []
  },
  {
   "cell_type": "code",
   "execution_count": null,
   "id": "09777815-c7a4-4d0e-ab9b-13c8dbdff7f1",
   "metadata": {},
   "outputs": [],
   "source": []
  },
  {
   "cell_type": "code",
   "execution_count": null,
   "id": "f4dd5a16-b1f5-4eb6-82b7-968920146276",
   "metadata": {},
   "outputs": [],
   "source": []
  },
  {
   "cell_type": "markdown",
   "id": "b6146b1d-9e1d-4d3f-8e3e-bbb037387903",
   "metadata": {
    "jp-MarkdownHeadingCollapsed": true
   },
   "source": [
    "# Part 3: REMOVE OUTLIER"
   ]
  },
  {
   "cell_type": "code",
   "execution_count": 9,
   "id": "5dad095d-f99f-4138-830e-89e461bf2d07",
   "metadata": {},
   "outputs": [
    {
     "data": {
      "text/html": [
       "<div>\n",
       "<style scoped>\n",
       "    .dataframe tbody tr th:only-of-type {\n",
       "        vertical-align: middle;\n",
       "    }\n",
       "\n",
       "    .dataframe tbody tr th {\n",
       "        vertical-align: top;\n",
       "    }\n",
       "\n",
       "    .dataframe thead th {\n",
       "        text-align: right;\n",
       "    }\n",
       "</style>\n",
       "<table border=\"1\" class=\"dataframe\">\n",
       "  <thead>\n",
       "    <tr style=\"text-align: right;\">\n",
       "      <th></th>\n",
       "      <th>Number_of_Customers</th>\n",
       "      <th>Menu_Price</th>\n",
       "      <th>Marketing_Spend</th>\n",
       "      <th>Average_Customer_Spending</th>\n",
       "      <th>Promotions</th>\n",
       "      <th>Reviews</th>\n",
       "      <th>Monthly_Revenue</th>\n",
       "    </tr>\n",
       "  </thead>\n",
       "  <tbody>\n",
       "    <tr>\n",
       "      <th>count</th>\n",
       "      <td>1000.000000</td>\n",
       "      <td>1000.000000</td>\n",
       "      <td>1000.000000</td>\n",
       "      <td>1000.000000</td>\n",
       "      <td>1000.000000</td>\n",
       "      <td>1000.000000</td>\n",
       "      <td>1000.000000</td>\n",
       "    </tr>\n",
       "    <tr>\n",
       "      <th>mean</th>\n",
       "      <td>53.271000</td>\n",
       "      <td>30.219120</td>\n",
       "      <td>9.958726</td>\n",
       "      <td>29.477085</td>\n",
       "      <td>0.497000</td>\n",
       "      <td>49.837000</td>\n",
       "      <td>268.724172</td>\n",
       "    </tr>\n",
       "    <tr>\n",
       "      <th>std</th>\n",
       "      <td>26.364914</td>\n",
       "      <td>11.278760</td>\n",
       "      <td>5.845586</td>\n",
       "      <td>11.471686</td>\n",
       "      <td>0.500241</td>\n",
       "      <td>29.226334</td>\n",
       "      <td>103.982950</td>\n",
       "    </tr>\n",
       "    <tr>\n",
       "      <th>min</th>\n",
       "      <td>10.000000</td>\n",
       "      <td>10.009501</td>\n",
       "      <td>0.003768</td>\n",
       "      <td>10.037177</td>\n",
       "      <td>0.000000</td>\n",
       "      <td>0.000000</td>\n",
       "      <td>-28.977809</td>\n",
       "    </tr>\n",
       "    <tr>\n",
       "      <th>25%</th>\n",
       "      <td>30.000000</td>\n",
       "      <td>20.396828</td>\n",
       "      <td>4.690724</td>\n",
       "      <td>19.603041</td>\n",
       "      <td>0.000000</td>\n",
       "      <td>24.000000</td>\n",
       "      <td>197.103642</td>\n",
       "    </tr>\n",
       "    <tr>\n",
       "      <th>50%</th>\n",
       "      <td>54.000000</td>\n",
       "      <td>30.860614</td>\n",
       "      <td>10.092047</td>\n",
       "      <td>29.251365</td>\n",
       "      <td>0.000000</td>\n",
       "      <td>50.000000</td>\n",
       "      <td>270.213964</td>\n",
       "    </tr>\n",
       "    <tr>\n",
       "      <th>75%</th>\n",
       "      <td>74.000000</td>\n",
       "      <td>39.843868</td>\n",
       "      <td>14.992436</td>\n",
       "      <td>39.553220</td>\n",
       "      <td>1.000000</td>\n",
       "      <td>76.000000</td>\n",
       "      <td>343.395793</td>\n",
       "    </tr>\n",
       "    <tr>\n",
       "      <th>max</th>\n",
       "      <td>99.000000</td>\n",
       "      <td>49.974140</td>\n",
       "      <td>19.994276</td>\n",
       "      <td>49.900725</td>\n",
       "      <td>1.000000</td>\n",
       "      <td>99.000000</td>\n",
       "      <td>563.381332</td>\n",
       "    </tr>\n",
       "  </tbody>\n",
       "</table>\n",
       "</div>"
      ],
      "text/plain": [
       "       Number_of_Customers   Menu_Price  Marketing_Spend  \\\n",
       "count          1000.000000  1000.000000      1000.000000   \n",
       "mean             53.271000    30.219120         9.958726   \n",
       "std              26.364914    11.278760         5.845586   \n",
       "min              10.000000    10.009501         0.003768   \n",
       "25%              30.000000    20.396828         4.690724   \n",
       "50%              54.000000    30.860614        10.092047   \n",
       "75%              74.000000    39.843868        14.992436   \n",
       "max              99.000000    49.974140        19.994276   \n",
       "\n",
       "       Average_Customer_Spending   Promotions      Reviews  Monthly_Revenue  \n",
       "count                1000.000000  1000.000000  1000.000000      1000.000000  \n",
       "mean                   29.477085     0.497000    49.837000       268.724172  \n",
       "std                    11.471686     0.500241    29.226334       103.982950  \n",
       "min                    10.037177     0.000000     0.000000       -28.977809  \n",
       "25%                    19.603041     0.000000    24.000000       197.103642  \n",
       "50%                    29.251365     0.000000    50.000000       270.213964  \n",
       "75%                    39.553220     1.000000    76.000000       343.395793  \n",
       "max                    49.900725     1.000000    99.000000       563.381332  "
      ]
     },
     "execution_count": 9,
     "metadata": {},
     "output_type": "execute_result"
    }
   ],
   "source": [
    "df.describe()"
   ]
  },
  {
   "cell_type": "markdown",
   "id": "57d858d7-205d-408f-8494-83ed61d60a24",
   "metadata": {},
   "source": [
    "Here we dont need to work on outlier after comparing min, mean and max"
   ]
  },
  {
   "cell_type": "code",
   "execution_count": null,
   "id": "065b796b-b96e-4755-a426-44853f6d4659",
   "metadata": {},
   "outputs": [],
   "source": []
  },
  {
   "cell_type": "markdown",
   "id": "3ae8ccaf-554b-461e-9ec7-77148098732c",
   "metadata": {},
   "source": [
    "# Part 4: EDA"
   ]
  },
  {
   "cell_type": "code",
   "execution_count": null,
   "id": "34777871-99ac-4cbc-987e-c445e32e0383",
   "metadata": {},
   "outputs": [],
   "source": []
  },
  {
   "cell_type": "code",
   "execution_count": 10,
   "id": "dae5487d-d33d-498e-8298-4f7a773c542f",
   "metadata": {},
   "outputs": [],
   "source": [
    "#heatmap for correlate the features\n",
    "\n",
    "df_numeric = df.drop(columns=['Cuisine_Type'])"
   ]
  },
  {
   "cell_type": "code",
   "execution_count": 11,
   "id": "06685569-c694-47b8-9bdc-f935e8974a42",
   "metadata": {},
   "outputs": [
    {
     "data": {
      "image/png": "[encoded data removed]",
      "text/plain": [
       "<Figure size 800x800 with 2 Axes>"
      ]
     },
     "metadata": {},
     "output_type": "display_data"
    }
   ],
   "source": [
    "matrix = df_numeric.corr()\n",
    "\n",
    "plt.figure(figsize=(8,8))\n",
    "sns.heatmap(matrix, cmap=\"coolwarm\", annot=True, linewidths=0.5)\n",
    "plt.title(\"Correlations\")\n",
    "plt.show()"
   ]
  },
  {
   "cell_type": "code",
   "execution_count": 12,
   "id": "f49094eb-aa6e-4057-ae7b-bf691bcf9b0d",
   "metadata": {},
   "outputs": [],
   "source": [
    "features = matrix['Monthly_Revenue'].sort_values(ascending=False)[1:]"
   ]
  },
  {
   "cell_type": "code",
   "execution_count": 13,
   "id": "0c67bcd2-882c-40b0-ad41-bd29fd08fdc8",
   "metadata": {
    "scrolled": true
   },
   "outputs": [
    {
     "data": {
      "image/png": "[encoded data removed]",
      "text/plain": [
       "<Figure size 1000x600 with 1 Axes>"
      ]
     },
     "metadata": {},
     "output_type": "display_data"
    }
   ],
   "source": [
    "# features.plot(kind= 'barh') \n",
    "\n",
    "plt.figure(figsize=(10,6))\n",
    "sns.barplot(y = features.index, x = features.values, hue = features.index , orient= \"h\")\n",
    "plt.xlabel('Impact on revenue')\n",
    "plt.ylabel('Features')\n",
    "plt.show()"
   ]
  },
  {
   "cell_type": "code",
   "execution_count": null,
   "id": "ec3da35e-98a0-431b-b275-2c535da34534",
   "metadata": {},
   "outputs": [],
   "source": []
  },
  {
   "cell_type": "markdown",
   "id": "ed282b7d-9660-4b93-b609-50799ff07b23",
   "metadata": {},
   "source": [
    "Here we can conclude that Number Of Customer impact more on Monthly Revune in compare of other features."
   ]
  },
  {
   "cell_type": "code",
   "execution_count": null,
   "id": "b36c3c39-e441-46ab-a4d7-a79dd91cdd1d",
   "metadata": {},
   "outputs": [],
   "source": []
  },
  {
   "cell_type": "code",
   "execution_count": 14,
   "id": "dd022b87-4ffb-4328-a2f1-7beab57ce581",
   "metadata": {},
   "outputs": [
    {
     "data": {
      "image/png": "[encoded data removed]",
      "text/plain": [
       "<Figure size 640x480 with 1 Axes>"
      ]
     },
     "metadata": {},
     "output_type": "display_data"
    }
   ],
   "source": [
    "#monthly revenue in respact of promotion \n",
    "sns.barplot(x= df.Promotions, y =df.Monthly_Revenue , data = df, hue = \"Promotions\")\n",
    "plt.show()"
   ]
  },
  {
   "cell_type": "code",
   "execution_count": 15,
   "id": "ff0d8793-185b-4387-8b14-70e543820877",
   "metadata": {},
   "outputs": [
    {
     "data": {
      "image/png": "[encoded data removed]",
      "text/plain": [
       "<Figure size 640x480 with 1 Axes>"
      ]
     },
     "metadata": {},
     "output_type": "display_data"
    }
   ],
   "source": [
    "#monthly revenue in respact of Cuisine_Type \n",
    "sns.barplot(x= df.Cuisine_Type, y =df.Monthly_Revenue , data = df, hue = \"Cuisine_Type\")\n",
    "plt.show()"
   ]
  },
  {
   "cell_type": "markdown",
   "id": "68d035a7-0791-4efb-8981-453ab3842b39",
   "metadata": {},
   "source": [
    "# Part 5: MODEL BUILDING"
   ]
  },
  {
   "cell_type": "code",
   "execution_count": null,
   "id": "493964b1-c428-4488-a1cc-ab81fa391c56",
   "metadata": {},
   "outputs": [],
   "source": []
  },
  {
   "cell_type": "markdown",
   "id": "fa865495-e150-4c67-b8b0-c5d1e1e8d321",
   "metadata": {},
   "source": [
    "## Split in into train test model"
   ]
  },
  {
   "cell_type": "code",
   "execution_count": null,
   "id": "eb30af24-218b-49e7-9dc4-ce45af13ed9a",
   "metadata": {},
   "outputs": [],
   "source": []
  },
  {
   "cell_type": "code",
   "execution_count": 16,
   "id": "278cb3a1-ffef-47a2-8f43-e2f768a8d1eb",
   "metadata": {},
   "outputs": [],
   "source": [
    "#convert categorical column into the numerical colums by oneHotEncoder\n",
    "\n",
    "dummies = pd.get_dummies(df.Cuisine_Type)"
   ]
  },
  {
   "cell_type": "code",
   "execution_count": 17,
   "id": "fbc30158-21d7-436c-a515-ba606e9e4e5d",
   "metadata": {},
   "outputs": [
    {
     "data": {
      "text/html": [
       "<div>\n",
       "<style scoped>\n",
       "    .dataframe tbody tr th:only-of-type {\n",
       "        vertical-align: middle;\n",
       "    }\n",
       "\n",
       "    .dataframe tbody tr th {\n",
       "        vertical-align: top;\n",
       "    }\n",
       "\n",
       "    .dataframe thead th {\n",
       "        text-align: right;\n",
       "    }\n",
       "</style>\n",
       "<table border=\"1\" class=\"dataframe\">\n",
       "  <thead>\n",
       "    <tr style=\"text-align: right;\">\n",
       "      <th></th>\n",
       "      <th>American</th>\n",
       "      <th>Italian</th>\n",
       "      <th>Japanese</th>\n",
       "      <th>Mexican</th>\n",
       "    </tr>\n",
       "  </thead>\n",
       "  <tbody>\n",
       "    <tr>\n",
       "      <th>0</th>\n",
       "      <td>False</td>\n",
       "      <td>False</td>\n",
       "      <td>True</td>\n",
       "      <td>False</td>\n",
       "    </tr>\n",
       "    <tr>\n",
       "      <th>1</th>\n",
       "      <td>False</td>\n",
       "      <td>True</td>\n",
       "      <td>False</td>\n",
       "      <td>False</td>\n",
       "    </tr>\n",
       "    <tr>\n",
       "      <th>2</th>\n",
       "      <td>False</td>\n",
       "      <td>False</td>\n",
       "      <td>True</td>\n",
       "      <td>False</td>\n",
       "    </tr>\n",
       "    <tr>\n",
       "      <th>3</th>\n",
       "      <td>False</td>\n",
       "      <td>True</td>\n",
       "      <td>False</td>\n",
       "      <td>False</td>\n",
       "    </tr>\n",
       "    <tr>\n",
       "      <th>4</th>\n",
       "      <td>False</td>\n",
       "      <td>True</td>\n",
       "      <td>False</td>\n",
       "      <td>False</td>\n",
       "    </tr>\n",
       "  </tbody>\n",
       "</table>\n",
       "</div>"
      ],
      "text/plain": [
       "   American  Italian  Japanese  Mexican\n",
       "0     False    False      True    False\n",
       "1     False     True     False    False\n",
       "2     False    False      True    False\n",
       "3     False     True     False    False\n",
       "4     False     True     False    False"
      ]
     },
     "execution_count": 17,
     "metadata": {},
     "output_type": "execute_result"
    }
   ],
   "source": [
    "dummies.head()"
   ]
  },
  {
   "cell_type": "code",
   "execution_count": null,
   "id": "1be81544-5055-4e19-a663-3796f60d3315",
   "metadata": {},
   "outputs": [],
   "source": []
  },
  {
   "cell_type": "code",
   "execution_count": 18,
   "id": "d7ab4564-a5d3-48d7-8720-60fd5c45c7a8",
   "metadata": {},
   "outputs": [],
   "source": [
    "df2 = pd.concat([df, dummies], axis=1 )"
   ]
  },
  {
   "cell_type": "code",
   "execution_count": 19,
   "id": "f1158fad-a0cb-49c7-b108-730cae67c380",
   "metadata": {},
   "outputs": [],
   "source": [
    "#drop unneccesory column\n",
    "\n",
    "df3 = df2.drop(columns=['American', 'Cuisine_Type'])"
   ]
  },
  {
   "cell_type": "code",
   "execution_count": null,
   "id": "6d4cdad3-999a-4c08-812a-9e630401a392",
   "metadata": {},
   "outputs": [],
   "source": []
  },
  {
   "cell_type": "code",
   "execution_count": null,
   "id": "844d5fd5-288e-489a-aa4d-c7cc35036d49",
   "metadata": {},
   "outputs": [],
   "source": []
  },
  {
   "cell_type": "code",
   "execution_count": 20,
   "id": "51a6e082-7400-4914-9f18-1bb6d4d267b2",
   "metadata": {},
   "outputs": [],
   "source": [
    "#separate dependent and independent \n",
    "\n",
    "X = df3.drop(columns = ['Monthly_Revenue', 'Promotions', 'Reviews', 'Average_Customer_Spending']) #here we also drop \"Promotion\" because it will not impact that much on  \n",
    "y = df3.Monthly_Revenue"
   ]
  },
  {
   "cell_type": "code",
   "execution_count": null,
   "id": "ed5b1f1e-4890-4d7a-adb0-a475121b3394",
   "metadata": {},
   "outputs": [],
   "source": []
  },
  {
   "cell_type": "code",
   "execution_count": 21,
   "id": "68b02b6d-faf6-499b-9ba0-2f2027afb4a9",
   "metadata": {},
   "outputs": [],
   "source": [
    "from sklearn.model_selection import train_test_split"
   ]
  },
  {
   "cell_type": "code",
   "execution_count": 22,
   "id": "7dde8804-114f-42f8-b77a-56c55b52f857",
   "metadata": {},
   "outputs": [],
   "source": [
    "X_train, X_test, y_train, y_test = train_test_split(X, y, test_size=0.2, random_state=40)"
   ]
  },
  {
   "cell_type": "code",
   "execution_count": null,
   "id": "83ed9474-87fe-4637-b02f-6e4cba7b4584",
   "metadata": {},
   "outputs": [],
   "source": []
  },
  {
   "cell_type": "markdown",
   "id": "6c45ad1a-91b2-48c3-baaf-e03ea2545d3e",
   "metadata": {},
   "source": [
    "## Use Linear Regression Model and get the score"
   ]
  },
  {
   "cell_type": "code",
   "execution_count": 23,
   "id": "676f0e21-850f-4f59-9b15-2f4b546e447b",
   "metadata": {},
   "outputs": [],
   "source": [
    "from sklearn.linear_model import LinearRegression\n",
    "lr = LinearRegression()"
   ]
  },
  {
   "cell_type": "code",
   "execution_count": 24,
   "id": "4b6a4081-10bb-4c95-a682-4bf61861cfb7",
   "metadata": {},
   "outputs": [
    {
     "data": {
      "text/plain": [
       "0.7032217296378437"
      ]
     },
     "execution_count": 24,
     "metadata": {},
     "output_type": "execute_result"
    }
   ],
   "source": [
    "lr.fit(X_train, y_train)\n",
    "lr.score(X_test, y_test)"
   ]
  },
  {
   "cell_type": "code",
   "execution_count": null,
   "id": "6912205e-ef5a-4e0d-ae88-e386be7c91fd",
   "metadata": {},
   "outputs": [],
   "source": []
  },
  {
   "cell_type": "markdown",
   "id": "fcf759e2-83be-4533-96ca-7cb1b1c8302e",
   "metadata": {},
   "source": [
    "## Use K-Fold for getting multiple score and do cross validation"
   ]
  },
  {
   "cell_type": "code",
   "execution_count": 25,
   "id": "ff391345-b0bf-4024-ad12-e5f773913f89",
   "metadata": {},
   "outputs": [],
   "source": [
    "from sklearn.model_selection import ShuffleSplit\n",
    "from sklearn.model_selection import cross_val_score"
   ]
  },
  {
   "cell_type": "code",
   "execution_count": null,
   "id": "f6bebab4-7203-4129-a711-7263123e03f5",
   "metadata": {},
   "outputs": [],
   "source": []
  },
  {
   "cell_type": "code",
   "execution_count": 26,
   "id": "e13b6a1a-118c-44c1-a2d4-b8ae7b248ab8",
   "metadata": {},
   "outputs": [
    {
     "data": {
      "text/plain": [
       "ShuffleSplit(n_splits=5, random_state=None, test_size=0.2, train_size=None)"
      ]
     },
     "execution_count": 26,
     "metadata": {},
     "output_type": "execute_result"
    }
   ],
   "source": [
    "cv = ShuffleSplit(\n",
    "    n_splits=5,\n",
    "    test_size=0.2,\n",
    ")\n",
    "cv"
   ]
  },
  {
   "cell_type": "code",
   "execution_count": 27,
   "id": "5b91b75e-0b49-4208-8562-5a166a205775",
   "metadata": {},
   "outputs": [
    {
     "data": {
      "text/plain": [
       "array([0.71264415, 0.68263852, 0.72001862, 0.72792571, 0.68654531])"
      ]
     },
     "execution_count": 27,
     "metadata": {},
     "output_type": "execute_result"
    }
   ],
   "source": [
    "all_score = cross_val_score(LinearRegression(), X, y, cv = cv)\n",
    "all_score"
   ]
  },
  {
   "cell_type": "code",
   "execution_count": 28,
   "id": "4929d87c-67f4-4f56-86bd-46bd6a7c2abb",
   "metadata": {},
   "outputs": [
    {
     "data": {
      "text/plain": [
       "(0.7279257062892494, 0.6826385240476625)"
      ]
     },
     "execution_count": 28,
     "metadata": {},
     "output_type": "execute_result"
    }
   ],
   "source": [
    "max_score= all_score.max()\n",
    "min_score= all_score.min()\n",
    "max_score, min_score"
   ]
  },
  {
   "cell_type": "code",
   "execution_count": null,
   "id": "231fb18e-3b95-4f14-83b2-afaf1be4d01e",
   "metadata": {},
   "outputs": [],
   "source": []
  },
  {
   "cell_type": "markdown",
   "id": "e181e426-d8ae-49af-ae1d-1e79c88fc6b0",
   "metadata": {},
   "source": [
    "## Use GridCV for getting multiple score and do cross validation"
   ]
  },
  {
   "cell_type": "code",
   "execution_count": 29,
   "id": "b9949029-3bfe-4843-bd17-50ca97244cbb",
   "metadata": {},
   "outputs": [],
   "source": [
    "from sklearn.linear_model import LinearRegression, Ridge\n",
    "from sklearn.linear_model import Lasso\n",
    "from sklearn.tree import DecisionTreeRegressor\n",
    "from sklearn.ensemble import RandomForestRegressor\n",
    "from sklearn.svm import SVC\n",
    "from sklearn.model_selection import GridSearchCV\n"
   ]
  },
  {
   "cell_type": "code",
   "execution_count": null,
   "id": "a45ce080-82c5-4346-b78f-dd058f929176",
   "metadata": {},
   "outputs": [],
   "source": []
  },
  {
   "cell_type": "code",
   "execution_count": 30,
   "id": "167e939f-b598-45d3-81f3-486f43c94683",
   "metadata": {},
   "outputs": [],
   "source": [
    "def find_best_model(X,y) :\n",
    "    algos = {\n",
    "        \"linear_regression\" : {\n",
    "            'model' : LinearRegression(),\n",
    "            'params' : {\n",
    "                # 'normalize' :,\n",
    "                'fit_intercept': [True]\n",
    "            }\n",
    "        },\n",
    "        \"lasso\" : {\n",
    "            'model': Lasso(),\n",
    "            'params': {\n",
    "                'alpha': [1,2],\n",
    "                'selection': ['random', 'cyclic']\n",
    "            }\n",
    "        },\n",
    "        \"decision_tree_regressor\" : {\n",
    "            'model': DecisionTreeRegressor(),\n",
    "            'params': {\n",
    "                'max_depth': [None, 10, 20],\n",
    "                'min_samples_split': [2, 5, 10],\n",
    "                'criterion' : [\"squared_error\", \"absolute_error\", \"friedman_mse\"]\n",
    "            }\n",
    "        },         \n",
    "        \"random_forest_regressor\" : {\n",
    "            'model': RandomForestRegressor(),\n",
    "            'params': {\n",
    "                'max_depth': [None, 10, 20],\n",
    "                'min_samples_split': [2, 5, 10],\n",
    "                'criterion' : [\"squared_error\", \"absolute_error\", \"friedman_mse\"] \n",
    "            }\n",
    "        }            \n",
    "    }\n",
    "    new_score = []\n",
    "    cv = ShuffleSplit(n_splits=5, test_size=0.2, random_state=0)\n",
    "    for algo_name, config in algos.items():\n",
    "        clf = GridSearchCV(config['model'], config['params'], cv=cv)  # Raising errors for clarity\n",
    "        clf.fit(X, y)\n",
    "        new_score.append({\n",
    "            \"model\": algo_name,\n",
    "            \"best_score\": clf.best_score_,\n",
    "            \"best_params\": clf.best_params_\n",
    "        })\n",
    "    return pd.DataFrame(new_score)\n",
    "    "
   ]
  },
  {
   "cell_type": "code",
   "execution_count": 31,
   "id": "1c5bccdd-fd47-4691-942b-1033489c4ee8",
   "metadata": {},
   "outputs": [
    {
     "data": {
      "text/html": [
       "<div>\n",
       "<style scoped>\n",
       "    .dataframe tbody tr th:only-of-type {\n",
       "        vertical-align: middle;\n",
       "    }\n",
       "\n",
       "    .dataframe tbody tr th {\n",
       "        vertical-align: top;\n",
       "    }\n",
       "\n",
       "    .dataframe thead th {\n",
       "        text-align: right;\n",
       "    }\n",
       "</style>\n",
       "<table border=\"1\" class=\"dataframe\">\n",
       "  <thead>\n",
       "    <tr style=\"text-align: right;\">\n",
       "      <th></th>\n",
       "      <th>model</th>\n",
       "      <th>best_score</th>\n",
       "      <th>best_params</th>\n",
       "    </tr>\n",
       "  </thead>\n",
       "  <tbody>\n",
       "    <tr>\n",
       "      <th>1</th>\n",
       "      <td>lasso</td>\n",
       "      <td>0.670763</td>\n",
       "      <td>{'alpha': 2, 'selection': 'cyclic'}</td>\n",
       "    </tr>\n",
       "    <tr>\n",
       "      <th>0</th>\n",
       "      <td>linear_regression</td>\n",
       "      <td>0.668101</td>\n",
       "      <td>{'fit_intercept': True}</td>\n",
       "    </tr>\n",
       "    <tr>\n",
       "      <th>3</th>\n",
       "      <td>random_forest_regressor</td>\n",
       "      <td>0.648261</td>\n",
       "      <td>{'criterion': 'absolute_error', 'max_depth': 1...</td>\n",
       "    </tr>\n",
       "    <tr>\n",
       "      <th>2</th>\n",
       "      <td>decision_tree_regressor</td>\n",
       "      <td>0.489423</td>\n",
       "      <td>{'criterion': 'squared_error', 'max_depth': 10...</td>\n",
       "    </tr>\n",
       "  </tbody>\n",
       "</table>\n",
       "</div>"
      ],
      "text/plain": [
       "                     model  best_score  \\\n",
       "1                    lasso    0.670763   \n",
       "0        linear_regression    0.668101   \n",
       "3  random_forest_regressor    0.648261   \n",
       "2  decision_tree_regressor    0.489423   \n",
       "\n",
       "                                         best_params  \n",
       "1                {'alpha': 2, 'selection': 'cyclic'}  \n",
       "0                            {'fit_intercept': True}  \n",
       "3  {'criterion': 'absolute_error', 'max_depth': 1...  \n",
       "2  {'criterion': 'squared_error', 'max_depth': 10...  "
      ]
     },
     "execution_count": 31,
     "metadata": {},
     "output_type": "execute_result"
    }
   ],
   "source": [
    "find_best_model(X,y).sort_values(\"best_score\", ascending = False)\n"
   ]
  },
  {
   "cell_type": "markdown",
   "id": "2d191a71-854c-4b7a-bf42-a01fbd82501e",
   "metadata": {},
   "source": [
    "Here we found that lasso model give the best result"
   ]
  },
  {
   "cell_type": "code",
   "execution_count": 32,
   "id": "b4c5b183-03d3-4fee-a2a4-e4be92a2aec8",
   "metadata": {},
   "outputs": [
    {
     "data": {
      "text/plain": [
       "Index(['Number_of_Customers', 'Menu_Price', 'Marketing_Spend', 'Italian',\n",
       "       'Japanese', 'Mexican'],\n",
       "      dtype='object')"
      ]
     },
     "execution_count": 32,
     "metadata": {},
     "output_type": "execute_result"
    }
   ],
   "source": [
    "X.columns"
   ]
  },
  {
   "cell_type": "code",
   "execution_count": 33,
   "id": "72fcad3b-a0c1-4875-9568-8205a06f50b0",
   "metadata": {},
   "outputs": [],
   "source": [
    "lesso_model = Lasso(alpha= 2, selection='random')\n",
    "lesso_model = lesso_model.fit(X,y)"
   ]
  },
  {
   "cell_type": "code",
   "execution_count": null,
   "id": "af20fa72-175a-4aef-8998-28f9368f9ee9",
   "metadata": {},
   "outputs": [],
   "source": []
  },
  {
   "cell_type": "code",
   "execution_count": null,
   "id": "5caeb81d-e4ce-4e24-8f13-756cf8528a11",
   "metadata": {},
   "outputs": [],
   "source": []
  },
  {
   "cell_type": "code",
   "execution_count": 34,
   "id": "256e15ae-df6f-49f7-8e23-ff03fe74160d",
   "metadata": {},
   "outputs": [],
   "source": [
    "def predict_price(number_of_customers, menu_price, marketing_spend, cuisine_type):\n",
    "    loc_index = np.where(X.columns==cuisine_type)[0][0] ##get the column index    \n",
    "    x = np.zeros(len(X.columns))\n",
    "    x[0] = number_of_customers \n",
    "    x[1] = menu_price \n",
    "    x[2] = marketing_spend \n",
    "\n",
    "    if loc_index >= 0:\n",
    "        x[loc_index] = 1\n",
    "\n",
    "    return lesso_model.predict([x])[0]"
   ]
  },
  {
   "cell_type": "code",
   "execution_count": null,
   "id": "c5f5b5df-3ab7-40b1-ba90-14096805edd9",
   "metadata": {},
   "outputs": [],
   "source": []
  },
  {
   "cell_type": "code",
   "execution_count": 35,
   "id": "6156dc6d-42fd-49d7-a3e3-2202b5d4dadb",
   "metadata": {},
   "outputs": [
    {
     "name": "stderr",
     "output_type": "stream",
     "text": [
      "C:\\Python312\\Lib\\site-packages\\sklearn\\base.py:493: UserWarning: X does not have valid feature names, but Lasso was fitted with feature names\n",
      "  warnings.warn(\n"
     ]
    },
    {
     "data": {
      "text/plain": [
       "494.9064034290668"
      ]
     },
     "execution_count": 35,
     "metadata": {},
     "output_type": "execute_result"
    }
   ],
   "source": [
    "predict_price(80, 10, 50, 'Japanese') # price in lakh"
   ]
  },
  {
   "cell_type": "markdown",
   "id": "1d4e82fd-99c1-4f31-9fda-91a6b8b18bfa",
   "metadata": {},
   "source": [
    "# Part 6: MODEL EXPORTING"
   ]
  },
  {
   "cell_type": "code",
   "execution_count": 36,
   "id": "c595ec11-0bd3-4790-8da8-a619561f5336",
   "metadata": {},
   "outputs": [
    {
     "data": {
      "text/plain": [
       "Index(['Number_of_Customers', 'Menu_Price', 'Marketing_Spend',\n",
       "       'Average_Customer_Spending', 'Promotions', 'Reviews', 'Monthly_Revenue',\n",
       "       'Italian', 'Japanese', 'Mexican'],\n",
       "      dtype='object')"
      ]
     },
     "execution_count": 36,
     "metadata": {},
     "output_type": "execute_result"
    }
   ],
   "source": [
    "df3.columns\n"
   ]
  },
  {
   "cell_type": "code",
   "execution_count": null,
   "id": "68e1a000-c26e-447a-a71e-54408493ef78",
   "metadata": {},
   "outputs": [],
   "source": []
  },
  {
   "cell_type": "code",
   "execution_count": 37,
   "id": "23a23807-98bc-4e9a-8c73-9fb71a24fc8a",
   "metadata": {},
   "outputs": [],
   "source": [
    "import pickle"
   ]
  },
  {
   "cell_type": "code",
   "execution_count": 38,
   "id": "b0aa38d7-f2d9-4391-92fa-7416d416eb8f",
   "metadata": {},
   "outputs": [],
   "source": [
    "with open(\"predict_restaurent__monthly_revenue\", \"wb\") as f:\n",
    "    pickle.dump(lesso_model, f)"
   ]
  },
  {
   "cell_type": "code",
   "execution_count": null,
   "id": "a16d32c1-4c5b-449f-9fbc-055781ccd416",
   "metadata": {},
   "outputs": [],
   "source": []
  },
  {
   "cell_type": "code",
   "execution_count": 39,
   "id": "62c97b1f-19c7-4b97-9b07-d35ab9f23c33",
   "metadata": {},
   "outputs": [],
   "source": [
    "import json"
   ]
  },
  {
   "cell_type": "code",
   "execution_count": 40,
   "id": "50f5aba3-ac08-4892-9031-caaaa0690712",
   "metadata": {},
   "outputs": [],
   "source": [
    "columns = {\n",
    "    \"data_columns\" :  [col.lower() for col in X.columns]\n",
    "}"
   ]
  },
  {
   "cell_type": "code",
   "execution_count": 41,
   "id": "1c8247d4-8832-4f50-a90c-3ed51d6c136d",
   "metadata": {},
   "outputs": [],
   "source": [
    "with open(\"columns.json\", \"w\") as f:\n",
    "    f.write(json.dumps(columns))"
   ]
  },
  {
   "cell_type": "code",
   "execution_count": null,
   "id": "55fd840e-88e6-485b-a6fa-25cbe9463b94",
   "metadata": {},
   "outputs": [],
   "source": []
  }
 ],
 "metadata": {
  "kernelspec": {
   "display_name": "Python 3 (ipykernel)",
   "language": "python",
   "name": "python3"
  },
  "language_info": {
   "codemirror_mode": {
    "name": "ipython",
    "version": 3
   },
   "file_extension": ".py",
   "mimetype": "text/x-python",
   "name": "python",
   "nbconvert_exporter": "python",
   "pygments_lexer": "ipython3",
   "version": "3.12.1"
  }
 },
 "nbformat": 4,
 "nbformat_minor": 5
}
